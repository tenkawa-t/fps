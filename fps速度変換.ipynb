{
 "cells": [
  {
   "cell_type": "markdown",
   "metadata": {},
   "source": [
    "作業の流れ  \n",
    "①slowの場合　実際の再生速度を確認  \n",
    "  25fpsのslow→2倍速で通常なら50fpsに変換\n",
    "\n",
    "②50fps→30fpsに画像を間引く  \n",
    "③preGT付与\n",
    "④GT依頼  \n",
    "⑤2倍にする  \n"
   ]
  },
  {
   "cell_type": "code",
   "execution_count": 2,
   "metadata": {},
   "outputs": [],
   "source": [
    "import cv2\n",
    "import os\n",
    "import sys\n",
    "import time\n"
   ]
  },
  {
   "cell_type": "markdown",
   "metadata": {},
   "source": [
    "# fps変更して保存"
   ]
  },
  {
   "cell_type": "code",
   "execution_count": 18,
   "metadata": {},
   "outputs": [],
   "source": [
    "# 動画を読み込み、FPSを変更して別名で保存する関数\n",
    "def m_speed_change(path_in, path_out, fps_new, color_flag):\n",
    "    # 動画読み込みの設定\n",
    "    movie = cv2.VideoCapture(path_in)\n",
    " \n",
    "    # 動画ファイル保存用の設定\n",
    "    fps = int(round(movie.get(cv2.CAP_PROP_FPS)))\n",
    "    #print(fps)# 元動画のFPSを取得\n",
    "    #fps_new = int(fps * scale_factor)                                       # 動画保存時のFPSはスケールファクターをかける\n",
    "    w = int(movie.get(cv2.CAP_PROP_FRAME_WIDTH))                            # 動画の横幅を取得\n",
    "    h = int(movie.get(cv2.CAP_PROP_FRAME_HEIGHT))                           # 動画の縦幅を取得\n",
    "    fourcc = cv2.VideoWriter_fourcc('m', 'p', '4', 'v')                     # 動画保存時のfourcc設定（mp4用）\n",
    "    video = cv2.VideoWriter(path_out, fourcc, fps_new, (w, h), color_flag)  # 動画の仕様（ファイル名、fourcc, FPS, サイズ）\n",
    " \n",
    "    # ファイルからフレームを1枚ずつ取得して動画処理後に保存する\n",
    "    while True:\n",
    "        ret, frame = movie.read()        # フレームを取得\n",
    "        video.write(frame)               # 動画を保存する\n",
    "        # フレームが取得できない場合はループを抜ける\n",
    "        if not ret:\n",
    "            break\n",
    "    # 撮影用オブジェクトとウィンドウの解放\n",
    "    movie.release()\n",
    "    return\n",
    " \n",
    "#path_in = 'Mountain - 34608.mp4'          # 元動画のパス\n",
    "#path_in = 'Elster - 35908.mp4' \n",
    "#保存ファイル用\n",
    "#name = os.path.splitext(path_in)\n",
    "#fps_new=30# FPSにかけるスケールファクター\n",
    "#path_out = name[0]+\"_{}fps\".format(fps_new)+name[1] # 保存する動画のパス\n",
    "#scale_factor = 2\n",
    "#color_flag = True               # カラー動画はTrue, グレースケール動画はFalse\n",
    " \n",
    "# 動画の再生速度を変更する関数を実行\n",
    "#m_speed_change(path_in, path_out, fps_new, color_flag)"
   ]
  },
  {
   "cell_type": "code",
   "execution_count": 44,
   "metadata": {},
   "outputs": [
    {
     "name": "stdout",
     "output_type": "stream",
     "text": [
      "59.9fps\n",
      "89.9fps\n",
      "119.9fps\n",
      "149.9fps\n"
     ]
    }
   ],
   "source": [
    "path_in = 'Elster - 35908.mp4'#元ファイルパス\n",
    "#保存ファイル生成用\n",
    "name = os.path.splitext(path_in)\n",
    "movie = cv2.VideoCapture(path_in)\n",
    "fps = (movie.get(cv2.CAP_PROP_FPS))\n",
    "\n",
    "#下記整数倍のfps動画生成\n",
    "fps_times = [2,3,4,5]#fpsのx倍のリスト\n",
    "#fps_times = [1,1.5,2,2.5,3,3.5,4,4.5,5]#fpsのx倍のリスト\n",
    "fpss = list(map(lambda x:x*fps,fps_times))\n",
    "color_flag = True  \n",
    "\n",
    "for i in fpss:\n",
    "    path_out = name[0]+\"_{0:.1f}fps\".format(i)+name[1] # 保存する動画のパス\n",
    "    print(\"{}fps\".format(path_out))\n",
    "    m_speed_change(path_in, path_out, i, color_flag)"
   ]
  },
  {
   "cell_type": "markdown",
   "metadata": {},
   "source": [
    "# 30fps相当の画像保存"
   ]
  },
  {
   "cell_type": "markdown",
   "metadata": {},
   "source": [
    "#120fps →30fps  \n",
    "target_fps = 30  \n",
    "fps = cap.get(cv2.CAP_PROP_FPS)  \n",
    "step_times = fps/target_fps  #間隔が何倍か  \n",
    "step_sec = fps_inv*_times　#間隔（秒）  "
   ]
  },
  {
   "cell_type": "code",
   "execution_count": 72,
   "metadata": {},
   "outputs": [],
   "source": [
    "def save_frame_range_sec_target_fps(video_path, target_fps, start_sec, stop_sec, \n",
    "                         dir_path, basename, ext='jpg'):\n",
    "    cap = cv2.VideoCapture(video_path)\n",
    "\n",
    "    if not cap.isOpened():\n",
    "        return\n",
    "\n",
    "    os.makedirs(dir_path, exist_ok=True)\n",
    "    base_path = os.path.join(dir_path, basename)\n",
    "\n",
    "    digit = len(str(int(cap.get(cv2.CAP_PROP_FRAME_COUNT))))\n",
    "\n",
    "    fps = cap.get(cv2.CAP_PROP_FPS)\n",
    "    fps_inv = 1 / fps\n",
    "    \n",
    "    #指定fpsの間隔\n",
    "    step_times = fps/target_fps  #間隔が何倍か\n",
    "    step_sec = fps_inv*step_times #間隔（秒）\n",
    "    print(\"1/{}倍のfpsで画像生成\".format(step_times))\n",
    "    print(\"{:.2f}秒間隔\".format(step_sec))\n",
    "    \n",
    "    count = 0\n",
    "\n",
    "    sec = start_sec\n",
    "    while sec < stop_sec:\n",
    "        n = round(fps * sec)#開始秒\n",
    "        cap.set(cv2.CAP_PROP_POS_FRAMES, n)#開始位置へ移動\n",
    "        ret, frame = cap.read()\n",
    "        if ret:\n",
    "            cv2.imwrite(\n",
    "                '{}_{}_{:.2f}_{}.{}'.format(\n",
    "                    base_path, str(n).zfill(digit), n * fps_inv, str(count).zfill(digit), ext\n",
    "                ),\n",
    "                frame\n",
    "            )\n",
    "        else:\n",
    "            print(\"Finished\")\n",
    "            return\n",
    "        count += 1\n",
    "        sec += step_sec"
   ]
  },
  {
   "cell_type": "code",
   "execution_count": 73,
   "metadata": {
    "scrolled": false
   },
   "outputs": [
    {
     "name": "stdout",
     "output_type": "stream",
     "text": [
      "1/3.996倍のfpsで画像生成\n",
      "0.03秒間隔\n",
      "Finished\n"
     ]
    }
   ],
   "source": [
    "path_in = 'Elster - 35908_119.9fps.mp4'\n",
    "directory = \"C:\\\\Users\\\\Ten\\\\python\\\\work\\\\sample2\\\\\"\n",
    "\n",
    "save_frame_range_sec_target_fps(path_in,30, 0, 100,\n",
    "                     directory, 'sample_video_img')"
   ]
  },
  {
   "cell_type": "code",
   "execution_count": null,
   "metadata": {},
   "outputs": [],
   "source": []
  },
  {
   "cell_type": "code",
   "execution_count": null,
   "metadata": {},
   "outputs": [],
   "source": []
  },
  {
   "cell_type": "markdown",
   "metadata": {},
   "source": [
    "# 以下、参考"
   ]
  },
  {
   "cell_type": "markdown",
   "metadata": {},
   "source": [
    "# 再生"
   ]
  },
  {
   "cell_type": "code",
   "execution_count": 42,
   "metadata": {},
   "outputs": [],
   "source": [
    "#file_path = 'Mountain - 34608.mp4'\n",
    "file_path = \"Elster - 35908.mp4\"\n",
    "cap = cv2.VideoCapture(file_path)\n",
    "#fps = 30\n",
    "fps = cap.get(cv2.CAP_PROP_FPS)\n",
    "if cap.isOpened()== False:\n",
    "    print(\"Error!\")\n",
    "\n",
    "while cap.isOpened():\n",
    "\n",
    "    ret, frame = cap.read()\n",
    "\n",
    "    if ret == True:\n",
    "\n",
    "        time.sleep(1/fps)\n",
    "        cv2.imshow('frame',frame)\n",
    "\n",
    "        if cv2.waitKey(1) & 0xFF == ord('q'):\n",
    "\n",
    "            break\n",
    "\n",
    "    else:\n",
    "        break\n",
    "\n",
    "cap.release()\n",
    "cv2.destroyAllWindows()"
   ]
  },
  {
   "cell_type": "code",
   "execution_count": null,
   "metadata": {},
   "outputs": [],
   "source": []
  },
  {
   "cell_type": "code",
   "execution_count": null,
   "metadata": {},
   "outputs": [],
   "source": []
  },
  {
   "cell_type": "code",
   "execution_count": 48,
   "metadata": {},
   "outputs": [
    {
     "name": "stdout",
     "output_type": "stream",
     "text": [
      "C:\\Users\\Ten\\python\\work\\fps変換\\out\\00000.jpg\n",
      "C:\\Users\\Ten\\python\\work\\fps変換\\out\\00050.jpg\n",
      "C:\\Users\\Ten\\python\\work\\fps変換\\out\\00100.jpg\n",
      "C:\\Users\\Ten\\python\\work\\fps変換\\out\\00150.jpg\n",
      "C:\\Users\\Ten\\python\\work\\fps変換\\out\\00200.jpg\n",
      "C:\\Users\\Ten\\python\\work\\fps変換\\out\\00250.jpg\n",
      "C:\\Users\\Ten\\python\\work\\fps変換\\out\\00300.jpg\n",
      "C:\\Users\\Ten\\python\\work\\fps変換\\out\\00350.jpg\n",
      "C:\\Users\\Ten\\python\\work\\fps変換\\out\\00400.jpg\n",
      "C:\\Users\\Ten\\python\\work\\fps変換\\out\\00450.jpg\n",
      "C:\\Users\\Ten\\python\\work\\fps変換\\out\\00500.jpg\n",
      "C:\\Users\\Ten\\python\\work\\fps変換\\out\\00550.jpg\n",
      "C:\\Users\\Ten\\python\\work\\fps変換\\out\\00600.jpg\n",
      "C:\\Users\\Ten\\python\\work\\fps変換\\out\\00650.jpg\n",
      "C:\\Users\\Ten\\python\\work\\fps変換\\out\\00700.jpg\n",
      "C:\\Users\\Ten\\python\\work\\fps変換\\out\\00750.jpg\n",
      "C:\\Users\\Ten\\python\\work\\fps変換\\out\\00800.jpg\n",
      "C:\\Users\\Ten\\python\\work\\fps変換\\out\\00850.jpg\n",
      "C:\\Users\\Ten\\python\\work\\fps変換\\out\\00900.jpg\n",
      "C:\\Users\\Ten\\python\\work\\fps変換\\out\\00950.jpg\n",
      "C:\\Users\\Ten\\python\\work\\fps変換\\out\\01000.jpg\n",
      "C:\\Users\\Ten\\python\\work\\fps変換\\out\\01050.jpg\n",
      "C:\\Users\\Ten\\python\\work\\fps変換\\out\\01100.jpg\n",
      "C:\\Users\\Ten\\python\\work\\fps変換\\out\\01150.jpg\n",
      "C:\\Users\\Ten\\python\\work\\fps変換\\out\\01200.jpg\n",
      "C:\\Users\\Ten\\python\\work\\fps変換\\out\\01250.jpg\n",
      "C:\\Users\\Ten\\python\\work\\fps変換\\out\\01300.jpg\n",
      "C:\\Users\\Ten\\python\\work\\fps変換\\out\\01350.jpg\n",
      "C:\\Users\\Ten\\python\\work\\fps変換\\out\\01400.jpg\n",
      "C:\\Users\\Ten\\python\\work\\fps変換\\out\\01450.jpg\n",
      "C:\\Users\\Ten\\python\\work\\fps変換\\out\\01500.jpg\n",
      "C:\\Users\\Ten\\python\\work\\fps変換\\out\\01550.jpg\n",
      "C:\\Users\\Ten\\python\\work\\fps変換\\out\\01600.jpg\n",
      "C:\\Users\\Ten\\python\\work\\fps変換\\out\\01650.jpg\n",
      "C:\\Users\\Ten\\python\\work\\fps変換\\out\\01700.jpg\n",
      "C:\\Users\\Ten\\python\\work\\fps変換\\out\\01750.jpg\n"
     ]
    }
   ],
   "source": [
    "import numpy as np\n",
    " \n",
    "def m_slice(path, dir, step, extension):\n",
    "    movie = cv2.VideoCapture(path)                  # 動画の読み込み\n",
    "    Fs = int(movie.get(cv2.CAP_PROP_FRAME_COUNT))   # 動画の全フレーム数を計算\n",
    "    path_head = dir + '\\\\'                       # 静止画のファイル名のヘッダー\n",
    "    ext_index = np.arange(0, Fs, step)              # 静止画を抽出する間隔\n",
    " \n",
    "    for i in range(Fs - 1):                         # フレームサイズ分のループを回す\n",
    "        flag, frame = movie.read()                  # 動画から1フレーム読み込む\n",
    "        check = i == ext_index                      # 現在のフレーム番号iが、抽出する指標番号と一致するかチェックする\n",
    "        \n",
    "        # frameを取得できた(flag=True)時だけ処理を行う\n",
    "        if flag == True:\n",
    "            # もしi番目のフレームが静止画を抽出するものであれば、ファイル名を付けて保存する\n",
    "            if True in check:\n",
    "                # ファイル名は後でフォルダ内で名前でソートした時に連番になるようにする\n",
    "                path_out = path_head + str(i).zfill(5) + extension\n",
    "                cv2.imwrite(path_out, frame)\n",
    "                print(path_out)\n",
    "            # i番目のフレームが静止画を抽出しないものであれば、何も処理をしない\n",
    "            else:\n",
    "                pass\n",
    "        else:\n",
    "            pass\n",
    "    return\n",
    " \n",
    "# 関数実行：引数=（ファイル名のパス、保存先のフォルダパス、ステップ数、静止画拡張子）\n",
    "path_in = 'Elster - 35908_119.9fps.mp4'\n",
    "directory = \"C:\\\\Users\\\\Ten\\\\python\\\\work\\\\fps変換\\\\out\"\n",
    "m_slice(path_in, directory, 50, '.jpg')"
   ]
  },
  {
   "cell_type": "code",
   "execution_count": null,
   "metadata": {},
   "outputs": [],
   "source": []
  },
  {
   "cell_type": "code",
   "execution_count": null,
   "metadata": {},
   "outputs": [],
   "source": []
  },
  {
   "cell_type": "markdown",
   "metadata": {},
   "source": [
    "# (うまく動作しない）再生fps変更"
   ]
  },
  {
   "cell_type": "code",
   "execution_count": 41,
   "metadata": {},
   "outputs": [
    {
     "name": "stdout",
     "output_type": "stream",
     "text": [
      "元のfps29.97002997002997\n",
      "再生179.82017982017982fps\n"
     ]
    }
   ],
   "source": [
    "\n",
    "#file_path = 'Mountain - 34608.mp4'\n",
    "file_path = \"Elster - 35908.mp4\"\n",
    "cap = cv2.VideoCapture(file_path)\n",
    "fps_ref = cap.get(cv2.CAP_PROP_FPS)\n",
    "print(\"元のfps{}\".format(fps_ref))# 元動画のFPSを取得\n",
    "fps = fps_ref*6\n",
    "print(\"再生{}fps\".format(fps))\n",
    "#fps = cap.get(cv2.CAP_PROP_FPS)\n",
    "if cap.isOpened()== False:\n",
    "    print(\"Error!\")\n",
    "\n",
    "while cap.isOpened():\n",
    "\n",
    "    ret, frame = cap.read()\n",
    "\n",
    "    if ret == True:\n",
    "\n",
    "        time.sleep(1/fps)\n",
    "        cv2.imshow('frame',frame)\n",
    "\n",
    "        if cv2.waitKey(1) & 0xFF == ord('q'):\n",
    "\n",
    "            break\n",
    "\n",
    "    else:\n",
    "        break\n",
    "\n",
    "cap.release()\n",
    "cv2.destroyAllWindows()"
   ]
  },
  {
   "cell_type": "markdown",
   "metadata": {},
   "source": [
    "# （うまく動作しない）動画再生時のFPSを測定、描画して表示"
   ]
  },
  {
   "cell_type": "code",
   "execution_count": 52,
   "metadata": {},
   "outputs": [
    {
     "ename": "error",
     "evalue": "OpenCV(3.4.2) C:\\Miniconda3\\conda-bld\\opencv-suite_1534379934306\\work\\modules\\highgui\\src\\window.cpp:356: error: (-215:Assertion failed) size.width>0 && size.height>0 in function 'cv::imshow'\n",
     "output_type": "error",
     "traceback": [
      "\u001b[1;31m---------------------------------------------------------------------------\u001b[0m",
      "\u001b[1;31merror\u001b[0m                                     Traceback (most recent call last)",
      "\u001b[1;32m<ipython-input-52-9a57ac9ed70b>\u001b[0m in \u001b[0;36m<module>\u001b[1;34m()\u001b[0m\n\u001b[0;32m     33\u001b[0m     cv2.putText(frame, 'FPS: {:.2f}'.format(fps),\n\u001b[0;32m     34\u001b[0m                 (10, 30), cv2.FONT_HERSHEY_SIMPLEX, 1.0, (0, 255, 0), thickness=2)\n\u001b[1;32m---> 35\u001b[1;33m     \u001b[0mcv2\u001b[0m\u001b[1;33m.\u001b[0m\u001b[0mimshow\u001b[0m\u001b[1;33m(\u001b[0m\u001b[0mwindow_name\u001b[0m\u001b[1;33m,\u001b[0m \u001b[0mframe\u001b[0m\u001b[1;33m)\u001b[0m\u001b[1;33m\u001b[0m\u001b[0m\n\u001b[0m\u001b[0;32m     36\u001b[0m     \u001b[0mcount\u001b[0m \u001b[1;33m+=\u001b[0m \u001b[1;36m1\u001b[0m\u001b[1;33m\u001b[0m\u001b[0m\n\u001b[0;32m     37\u001b[0m \u001b[1;33m\u001b[0m\u001b[0m\n",
      "\u001b[1;31merror\u001b[0m: OpenCV(3.4.2) C:\\Miniconda3\\conda-bld\\opencv-suite_1534379934306\\work\\modules\\highgui\\src\\window.cpp:356: error: (-215:Assertion failed) size.width>0 && size.height>0 in function 'cv::imshow'\n"
     ]
    }
   ],
   "source": [
    "camera_id = 0\n",
    "delay = 1\n",
    "window_name = 'frame'\n",
    "\n",
    "#fps = 120\n",
    "#fps = cap.get(cv2.CAP_PROP_FPS)\n",
    "\n",
    "cap = cv2.VideoCapture(file_path)\n",
    "\n",
    "if not cap.isOpened():\n",
    "    sys.exit()\n",
    "\n",
    "tm = cv2.TickMeter()\n",
    "tm.start()\n",
    "\n",
    "count = 0\n",
    "max_count = 20\n",
    "fps = 0\n",
    "\n",
    "while cap.isOpened():\n",
    "    ret, frame = cap.read()\n",
    "\n",
    "    if count == max_count:\n",
    "        tm.stop()\n",
    "        fps = max_count / tm.getTimeSec()\n",
    "        tm.reset()\n",
    "        tm.start()\n",
    "        count = 0\n",
    "\n",
    "    cv2.putText(frame, 'FPS: {:.2f}'.format(fps),\n",
    "                (10, 30), cv2.FONT_HERSHEY_SIMPLEX, 1.0, (0, 255, 0), thickness=2)\n",
    "    cv2.imshow(window_name, frame)\n",
    "    count += 1\n",
    "\n",
    "    if cv2.waitKey(delay) & 0xFF == ord('q'):\n",
    "        break\n",
    "    \n",
    "\n",
    "cv2.destroyWindow(window_name)\n",
    "cap.release()\n",
    "cv2.destroyAllWindows()"
   ]
  },
  {
   "cell_type": "code",
   "execution_count": 2,
   "metadata": {},
   "outputs": [
    {
     "data": {
      "text/plain": [
       "'3.4.2'"
      ]
     },
     "execution_count": 2,
     "metadata": {},
     "output_type": "execute_result"
    }
   ],
   "source": [
    "import cv2 \n",
    "cv2.__version__"
   ]
  },
  {
   "cell_type": "code",
   "execution_count": 49,
   "metadata": {},
   "outputs": [],
   "source": [
    "# 動画を読み込み、FPSを変更して別名で保存する関数\n",
    "def m_speed_change(path_in, path_out, scale_factor, color_flag):\n",
    "    # 動画読み込みの設定\n",
    "    movie = cv2.VideoCapture(path_in)\n",
    " \n",
    "    # 動画ファイル保存用の設定\n",
    "    fps = int(movie.get(cv2.CAP_PROP_FPS))                                  # 元動画のFPSを取得\n",
    "    fps_new = fps * scale_factor                                       # 動画保存時のFPSはスケールファクターをかける\n",
    "    w = int(movie.get(cv2.CAP_PROP_FRAME_WIDTH))                            # 動画の横幅を取得\n",
    "    h = int(movie.get(cv2.CAP_PROP_FRAME_HEIGHT))                           # 動画の縦幅を取得\n",
    "    fourcc = cv2.VideoWriter_fourcc('m', 'p', '4', 'v')                     # 動画保存時のfourcc設定（mp4用）\n",
    "    video = cv2.VideoWriter(path_out, fourcc, fps_new, (w, h), color_flag)  # 動画の仕様（ファイル名、fourcc, FPS, サイズ）\n",
    " \n",
    "    # ファイルからフレームを1枚ずつ取得して動画処理後に保存する\n",
    "    while True:\n",
    "        ret, frame = movie.read()        # フレームを取得\n",
    "        video.write(frame)               # 動画を保存する\n",
    "        # フレームが取得できない場合はループを抜ける\n",
    "        if not ret:\n",
    "            break\n",
    "    # 撮影用オブジェクトとウィンドウの解放\n",
    "    movie.release()\n",
    "    return\n",
    " \n",
    "path_in = 'Mountain - 34608.mp4'          # 元動画のパス\n",
    "path_out = 'video_out.mp4'      # 保存する動画のパス\n",
    "scale_factor = 2              # FPSにかけるスケールファクター\n",
    "color_flag = True               # カラー動画はTrue, グレースケール動画はFalse\n",
    " \n",
    "# 動画の再生速度を変更する関数を実行\n",
    "m_speed_change(path_in, path_out, scale_factor, color_flag)"
   ]
  },
  {
   "cell_type": "markdown",
   "metadata": {},
   "source": [
    "# 固定fpsに変換"
   ]
  },
  {
   "cell_type": "code",
   "execution_count": null,
   "metadata": {},
   "outputs": [],
   "source": []
  },
  {
   "cell_type": "markdown",
   "metadata": {},
   "source": [
    "# 全画像保存"
   ]
  },
  {
   "cell_type": "code",
   "execution_count": 10,
   "metadata": {},
   "outputs": [
    {
     "name": "stdout",
     "output_type": "stream",
     "text": [
      "\\result\n"
     ]
    }
   ],
   "source": [
    "import cv2\n",
    "import os\n",
    "\n",
    "def save_all_frames(video_path, dir_path, basename, ext='jpg'):\n",
    "    cap = cv2.VideoCapture(video_path)\n",
    "\n",
    "    if not cap.isOpened():\n",
    "        return\n",
    "\n",
    "    os.makedirs(dir_path, exist_ok=True)\n",
    "    print(dir_path)\n",
    "    base_path = os.path.join(dir_path, basename)\n",
    "\n",
    "    digit = len(str(int(cap.get(cv2.CAP_PROP_FRAME_COUNT))))\n",
    "\n",
    "    n = 0\n",
    "\n",
    "    while True:\n",
    "        ret, frame = cap.read()\n",
    "        if ret:\n",
    "            cv2.imwrite('{}_{}.{}'.format(base_path, str(n).zfill(digit), ext), frame)\n",
    "            n += 1\n",
    "        else:\n",
    "            return\n",
    "\n",
    "\n",
    "save_all_frames('Mountain - 34608.mp4', '\\\\result', 'sample_video_img')\n",
    "\n",
    "#save_all_frames('Mountain - 34608.mp4', '\\\\result_png', 'sample_video_img', 'png')"
   ]
  },
  {
   "cell_type": "code",
   "execution_count": null,
   "metadata": {},
   "outputs": [],
   "source": []
  },
  {
   "cell_type": "code",
   "execution_count": null,
   "metadata": {},
   "outputs": [],
   "source": []
  },
  {
   "cell_type": "code",
   "execution_count": null,
   "metadata": {},
   "outputs": [],
   "source": []
  }
 ],
 "metadata": {
  "anaconda-cloud": {},
  "kernelspec": {
   "display_name": "Python [Anaconda3]",
   "language": "python",
   "name": "Python [Anaconda3]"
  }
 },
 "nbformat": 4,
 "nbformat_minor": 2
}
