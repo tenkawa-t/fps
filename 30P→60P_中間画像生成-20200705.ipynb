{
 "cells": [
  {
   "cell_type": "markdown",
   "metadata": {},
   "source": [
    "# 中間画像生成"
   ]
  },
  {
   "cell_type": "code",
   "execution_count": 7,
   "metadata": {},
   "outputs": [],
   "source": [
    "import numpy\n",
    "import cv2\n",
    "import os\n",
    "import glob\n",
    "import pandas as pd\n",
    "import shutil\n",
    "\n",
    "def mid_image(path1, path2, save_dir_name):\n",
    "    #print(path1)\n",
    "    imgStart = cv2.imread(path1)\n",
    "    imgEnd = cv2.imread(path2)\n",
    "    #ファイル名生成用\n",
    "    img_name = os.path.splitext(os.path.basename(path1))\n",
    "    #ディレクトリ\n",
    "    #dir_name = os.path.dirname(path1)\n",
    "    # 0.0～1.0\n",
    "    imgStart = (imgStart / 255)\n",
    "    imgEnd = (imgEnd / 255)\n",
    "    #書き込み\n",
    "    imgTmp = (imgStart / 2  + imgEnd / 2)\n",
    "    imgRes = cv2.resize(imgTmp,(640, 480))\n",
    "    save_name = save_dir_name+ img_name[0] +\"_mid_\"+ img_name[1]\n",
    "    \n",
    "    #cv2.imshow(\"color\", imgRes)\n",
    "    cv2.imwrite(save_name, imgTmp * 255)\n",
    "    cv2.waitKey(10)\n",
    "\n",
    "    #cv2.waitKey(0)\n",
    "    cv2.destroyAllWindows()\n",
    "    return save_name\n",
    "    "
   ]
  },
  {
   "cell_type": "markdown",
   "metadata": {},
   "source": [
    "# メイン処理"
   ]
  },
  {
   "cell_type": "code",
   "execution_count": 8,
   "metadata": {},
   "outputs": [
    {
     "name": "stdout",
     "output_type": "stream",
     "text": [
      "['C:\\\\Users\\\\Ten\\\\python\\\\work\\\\30_60transac\\\\aaa\\\\1\\\\gt\\\\1.csv', 'C:\\\\Users\\\\Ten\\\\python\\\\work\\\\30_60transac\\\\aaa\\\\2\\\\gt\\\\1.csv']\n"
     ]
    }
   ],
   "source": [
    "\n",
    "#csvリスト\n",
    "path_get_dir = r\"C:\\Users\\Ten\\python\\work\\30_60transac\\aaa\"\n",
    "csv_list = []\n",
    "for curDir, dirs, files in os.walk(path_get_dir):\n",
    "    for file in files:\n",
    "        if file.endswith(\".csv\"):\n",
    "            csv_list.append(os.path.join(curDir, file))\n",
    "\n",
    "print(csv_list)           \n",
    "\n",
    "#csvごとに更新\n",
    "for csv in csv_list:\n",
    "    #新しく作成したimgのリスト\n",
    "    img_new_name_list = []\n",
    "    dir_name_csv = os.path.dirname(os.path.dirname(csv))\n",
    "    gt_path = dir_name_csv+\"\\\\gt\\\\\"\n",
    "    img_path = dir_name_csv+\"\\\\img\\\\\"\n",
    "    gt_void_path = dir_name_csv+\"\\\\gt\\\\Void\\\\\"\n",
    "    \n",
    "    #処理①imgフォルダを複数にする\n",
    "    #元画像ディレクトリパス\n",
    "    \n",
    "    img_files = glob.glob(img_path+\"*.jpg\")\n",
    "    for i in range(0,len(img_files)):\n",
    "        try:\n",
    "            i_file1 = img_files[i]\n",
    "            i_file2 = img_files[i+1]\n",
    "            name = mid_image(i_file1,i_file2,img_path)\n",
    "            #listに格納\n",
    "            img_new_name_list.append(name)\n",
    "        except:\n",
    "            pass\n",
    "    \n",
    "    #処理②voidフォルダを複数にする\n",
    "    void_files = glob.glob(gt_void_path+\"*.jpg\")\n",
    "    for j in range(0,len(void_files)):\n",
    "        try:\n",
    "            v_file1 = void_files[j]\n",
    "            v_file2 = void_files[j+1]\n",
    "            mid_image(v_file1,v_file2,gt_void_path)\n",
    "        except:\n",
    "            pass    \n",
    "    \n",
    "    #処理③gtのcsvファイルを増やす\n",
    "    \n",
    "    #gt読み込み\n",
    "    gt_read = pd.read_csv(csv)\n",
    "    gt_read[\"temp\"] = gt_read.index\n",
    "\n",
    "    #中間生成対象行\n",
    "    mid = [\"H\",\"W\"]\n",
    "\n",
    "    #flag行\n",
    "    flag = [\"occ\", \"frame\"]\n",
    "\n",
    "    #中間生成\n",
    "    gt_temp = gt_read[mid]-gt_read[mid].diff(periods=-1).applymap(lambda x:x/2)\n",
    "    gt_temp[mid] = gt_temp[mid].applymap('{:.2f}'.format)\n",
    "    #flagはひとつ前をコピーする\n",
    "    gt_temp[flag] = gt_read[flag]\n",
    "    #中間に挿入するための行\n",
    "    gt_temp[\"temp\"] = gt_temp.index+0.5\n",
    "    #ファイル名追加\n",
    "    gt_temp[\"path\"] = pd.DataFrame(img_new_name_list)\n",
    "    \n",
    "\n",
    "    #結合\n",
    "    gt = pd.concat([gt_read,gt_temp]).sort_values(\"temp\")\n",
    "    gt = gt.reset_index(drop=True)\n",
    "    gt = gt.drop(\"temp\", axis=1)\n",
    "    gt = gt.dropna()\n",
    "    gt.to_csv(csv, index=False)\n",
    "    \n",
    "    #print(dir_name_csv)\n",
    "    \n",
    "\n"
   ]
  }
 ],
 "metadata": {
  "anaconda-cloud": {},
  "kernelspec": {
   "display_name": "Python [Anaconda3]",
   "language": "python",
   "name": "Python [Anaconda3]"
  },
  "language_info": {
   "codemirror_mode": {
    "name": "ipython",
    "version": 3
   },
   "file_extension": ".py",
   "mimetype": "text/x-python",
   "name": "python",
   "nbconvert_exporter": "python",
   "pygments_lexer": "ipython3",
   "version": "3.5.4"
  }
 },
 "nbformat": 4,
 "nbformat_minor": 2
}
